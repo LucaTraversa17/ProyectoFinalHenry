{
  "nbformat": 4,
  "nbformat_minor": 0,
  "metadata": {
    "colab": {
      "provenance": []
    },
    "kernelspec": {
      "name": "python3",
      "display_name": "Python 3"
    },
    "language_info": {
      "name": "python"
    }
  },
  "cells": [
    {
      "cell_type": "code",
      "execution_count": 1,
      "metadata": {
        "id": "ppET1gejmkbC"
      },
      "outputs": [],
      "source": [
        "# Autenticar tu cuenta de Google\n",
        "from google.colab import auth\n",
        "auth.authenticate_user()\n",
        "import pandas as pd\n",
        "import io\n",
        "# Configurar las credenciales\n",
        "from google.cloud import storage\n",
        "client = storage.Client()\n",
        "\n",
        "# Specify the bucket and file names\n",
        "bucket_name = 'etl_archivos'\n",
        "file_name = 'ReviewsYelp.parquet'\n",
        "\n",
        "# Create a storage client\n",
        "storage_client = storage.Client()\n",
        "\n",
        "# Get the bucket\n",
        "bucket = storage_client.get_bucket(bucket_name)\n",
        "\n",
        "# Get the blob (file)\n",
        "blob = bucket.get_blob(file_name)\n",
        "\n",
        "# Download the blob's contents to a BytesIO object\n",
        "parquet_bytes = io.BytesIO(blob.download_as_string())\n",
        "\n",
        "# Read the parquet file into a DataFrame using pandas\n",
        "df_join_yelp = pd.read_parquet(parquet_bytes)\n"
      ]
    },
    {
      "cell_type": "code",
      "source": [
        "# Specify the bucket and file names\n",
        "bucket_name = 'etl_archivos'\n",
        "file_name = 'ReviewsUnificados.parquet'\n",
        "\n",
        "# Create a storage client\n",
        "storage_client = storage.Client()\n",
        "\n",
        "# Get the bucket\n",
        "bucket = storage_client.get_bucket(bucket_name)\n",
        "\n",
        "# Get the blob (file)\n",
        "blob = bucket.get_blob(file_name)\n",
        "\n",
        "# Download the blob's contents to a BytesIO object\n",
        "parquet_bytes = io.BytesIO(blob.download_as_string())\n",
        "\n",
        "# Read the parquet file into a DataFrame using pandas\n",
        "df_join_yelp2 = pd.read_parquet(parquet_bytes)\n",
        "df_join_yelp2.drop(columns=['review_id'], inplace = True)\n",
        "df_join_yelp_concat = pd.concat([df_join_yelp, df_join_yelp2], ignore_index=True)"
      ],
      "metadata": {
        "id": "PKg-mpTonQcN"
      },
      "execution_count": 2,
      "outputs": []
    },
    {
      "cell_type": "code",
      "source": [
        "import uuid\n",
        "df_join_yelp_concat['review_id'] = [uuid.uuid4() for _ in range(len(df_join_yelp_concat))]"
      ],
      "metadata": {
        "id": "sJqaqMQlnvt1"
      },
      "execution_count": 3,
      "outputs": []
    },
    {
      "cell_type": "code",
      "source": [
        "# Create a StringIO object to hold the DataFrame in memory\n",
        "sio = io.BytesIO()\n",
        "df_join_yelp_concat['rating'] = df_join_yelp_concat['rating'].astype(str)\n",
        "df_join_yelp_concat['review_id'] = df_join_yelp_concat['review_id'].astype(str)\n",
        "# Write the DataFrame to the StringIO object in Parquet format\n",
        "df_join_yelp_concat.to_parquet(sio)\n",
        "\n",
        "# Create a client object for interacting with Cloud Storage\n",
        "client = storage.Client()\n",
        "\n",
        "# Create a bucket object for the desired bucket\n",
        "bucket = client.get_bucket('etl_archivos')\n",
        "\n",
        "# Create a blob object for the desired file\n",
        "blob = bucket.blob('ReviewsTodasFinal.parquet')\n",
        "\n",
        "# Upload the DataFrame from the StringIO object to the blob\n",
        "blob.upload_from_string(sio.getvalue())"
      ],
      "metadata": {
        "id": "-sf1rlE3oHq9"
      },
      "execution_count": 4,
      "outputs": []
    }
  ]
}