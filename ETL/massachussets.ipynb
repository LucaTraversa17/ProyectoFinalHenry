{
 "cells": [
  {
   "cell_type": "code",
   "execution_count": 1,
   "metadata": {},
   "outputs": [
    {
     "data": {
      "text/html": [
       "\n",
       "            <div>\n",
       "                <p><b>SparkSession - in-memory</b></p>\n",
       "                \n",
       "        <div>\n",
       "            <p><b>SparkContext</b></p>\n",
       "\n",
       "            <p><a href=\"http://IMNOTROY:4040\">Spark UI</a></p>\n",
       "\n",
       "            <dl>\n",
       "              <dt>Version</dt>\n",
       "                <dd><code>v3.5.1</code></dd>\n",
       "              <dt>Master</dt>\n",
       "                <dd><code>local[*]</code></dd>\n",
       "              <dt>AppName</dt>\n",
       "                <dd><code>FinalProject</code></dd>\n",
       "            </dl>\n",
       "        </div>\n",
       "        \n",
       "            </div>\n",
       "        "
      ],
      "text/plain": [
       "<pyspark.sql.session.SparkSession at 0x26efe2e0380>"
      ]
     },
     "execution_count": 1,
     "metadata": {},
     "output_type": "execute_result"
    }
   ],
   "source": [
    "from pyspark.sql import SparkSession, functions as F\n",
    "\n",
    "spark = SparkSession.builder \\\n",
    "    .appName(\"FinalProject\") \\\n",
    "    .config(\"spark.driver.memory\", \"4g\") \\\n",
    "    .getOrCreate()\n",
    "\n",
    "spark"
   ]
  },
  {
   "cell_type": "markdown",
   "metadata": {},
   "source": [
    "Con la siguiente clase se busca unificar los archivos respectivos a un estado del dataset de Google. En el caso de la metadata, se encontró con un problema de compatibilidad de las columnas de los archivos, por lo que, como solución temporal, se agregó un script específico (comentado) para ese caso; buscando filtrar sólo las columnas que aporten información."
   ]
  },
  {
   "cell_type": "code",
   "execution_count": 7,
   "metadata": {},
   "outputs": [],
   "source": [
    "class UnifyFiles:\n",
    "    def __init__(self, estado:str, directorio:str, num_archivos:int) -> None:\n",
    "        self.path = directorio\n",
    "        self.n = num_archivos\n",
    "        self.files = []\n",
    "        self.state = estado\n",
    "        self.df = None\n",
    "\n",
    "    def ReadFiles(self):\n",
    "        for i in range(1, self.n + 1):\n",
    "            fl = spark.read.json(self.path + f\"/{i}.json\")\n",
    "\n",
    "            fl = fl.select('gmap_id','avg_rating','category')         ## Este código se usa sólo para la metadata\n",
    "\n",
    "            self.files.append(fl)\n",
    "        return \"Done!\"\n",
    "    \n",
    "    def PrintFileN(self, Archivo:int):\n",
    "        fl = self.files[Archivo - 1]\n",
    "        fl.show()\n",
    "        return \"Done!\"\n",
    "    \n",
    "    def Unify(self):\n",
    "        unified = self.files[0].union(self.files[1])\n",
    "\n",
    "        for i in self.files[3:]:\n",
    "            unified = unified.union(i)\n",
    "        \n",
    "        unified.dropDuplicates()\n",
    "\n",
    "        self.df = unified\n",
    "\n",
    "        return \"Done!\"\n",
    "    \n",
    "    def DropColumns(self):\n",
    "        self.df = self.df.drop('pics').drop('resp')  # Se eliminan las columnas ya que no aportan información.\n",
    "        return \"Done!\"\n",
    "    \n",
    "    def PrintUnified(self):\n",
    "        self.df.show()\n",
    "        return \"Done!\"\n",
    "    \n",
    "    def CountUnified(self):\n",
    "        return self.df.count()\n",
    "    \n",
    "    def WriteJson(self):\n",
    "        self.df.toPandas().to_json(f\"{self.state}.json\")\n",
    "\n",
    "        return \"Done!\""
   ]
  },
  {
   "cell_type": "markdown",
   "metadata": {},
   "source": [
    "### **`Massachussets`**"
   ]
  },
  {
   "cell_type": "code",
   "execution_count": 3,
   "metadata": {},
   "outputs": [
    {
     "data": {
      "text/plain": [
       "'Done!'"
      ]
     },
     "execution_count": 3,
     "metadata": {},
     "output_type": "execute_result"
    }
   ],
   "source": [
    "ma = UnifyFiles(\"masachussets\", r\"Datasets\\review-Massachusetts\", 16)\n",
    "\n",
    "ma.ReadFiles()\n",
    "\n",
    "ma.Unify()\n",
    "\n",
    "ma.DropColumns()\n",
    "\n",
    "ma.WriteJson()"
   ]
  },
  {
   "cell_type": "code",
   "execution_count": 4,
   "metadata": {},
   "outputs": [
    {
     "name": "stdout",
     "output_type": "stream",
     "text": [
      "+--------------------+---------------+----+------+----+--------------------+-------------+--------------------+\n",
      "|             gmap_id|           name|pics|rating|resp|                text|         time|             user_id|\n",
      "+--------------------+---------------+----+------+----+--------------------+-------------+--------------------+\n",
      "|0x89e40887d6d5823...|Carmen De Jesus|NULL|     5|NULL|           Good wine|1532303239396|11188308459885990...|\n",
      "|0x89e40887d6d5823...|kathie Chartier|NULL|     5|NULL|   Awesome selection|1534592447635|10334923867856989...|\n",
      "|0x89e40887d6d5823...|  Francis Smith|NULL|     5|NULL|Liquor selection ...|1575371884502|10938987617230154...|\n",
      "|0x89e40887d6d5823...|    Kerrie Topi|NULL|     4|NULL|Great wine selection|1526776318490|10763045646989684...|\n",
      "|0x89e40887d6d5823...|  Jason Schmidt|NULL|     5|NULL|             Not bad|1581980567039|10254819721669894...|\n",
      "|0x89e40887d6d5823...|   Ralph Taylor|NULL|     4|NULL|Always has what y...|1569525575470|10782868373440040...|\n",
      "|0x89e40887d6d5823...|    Mike Murphy|NULL|     5|NULL|So much good 🍺 i...|1517933631464|11115541883056214...|\n",
      "|0x89e40887d6d5823...|Alexis Flanagan|NULL|     5|NULL|           Obsessed.|1546490475142|11104651511866494...|\n",
      "|0x89e40887d6d5823...|  Taylor Anding|NULL|     5|NULL|Largest selection...|1522602638483|11503315112031316...|\n",
      "|0x89e40887d6d5823...|Beverly Edwards|NULL|     5|NULL|         Great deals|1548755124068|10395556421064485...|\n",
      "|0x89e40887d6d5823...|Joseph Cancelmo|NULL|     4|NULL|Great prices and ...|1491418745434|10834501228564501...|\n",
      "|0x89e40887d6d5823...|    Joe Desiata|NULL|     5|NULL|       awesome store|1564569192124|10703655587297030...|\n",
      "|0x89e40887d6d5823...|  Laura Nedelcu|NULL|     5|NULL|Awesome store, hu...|1521453225672|10503390981495476...|\n",
      "|0x89e40887d6d5823...|   Vinit Gilvaz|NULL|     5|NULL|One stop shop for...|1520291576082|10124824224553051...|\n",
      "|0x89e40887d6d5823...|   Jim McSherry|NULL|     3|NULL| Great cigar prices!|1505444963146|11616068556272543...|\n",
      "|0x89e40887d6d5823...|     Arty Walch|NULL|     5|NULL|Huge selection of...|1552779872263|11560929091147681...|\n",
      "|0x89e40887d6d5823...|   Robin Nugent|NULL|     5|NULL|Disneyland for th...|1530212478587|10244738942822528...|\n",
      "|0x89e40887d6d5823...|  Trina Leboeuf|NULL|     5|NULL|  Incredible variety|1559317658618|10523530653204632...|\n",
      "|0x89e40887d6d5823...|   Mario Garces|NULL|     5|NULL|Should be called ...|1552759836771|10999160652736201...|\n",
      "|0x89e40887d6d5823...| Jamie Tarquini|NULL|     5|NULL| They have it all!!!|1562105374691|10962650036484570...|\n",
      "+--------------------+---------------+----+------+----+--------------------+-------------+--------------------+\n",
      "only showing top 20 rows\n",
      "\n"
     ]
    },
    {
     "data": {
      "text/plain": [
       "'Done!'"
      ]
     },
     "execution_count": 4,
     "metadata": {},
     "output_type": "execute_result"
    }
   ],
   "source": [
    "ma.PrintFileN(16)"
   ]
  },
  {
   "cell_type": "code",
   "execution_count": 5,
   "metadata": {},
   "outputs": [
    {
     "data": {
      "text/plain": [
       "2250000"
      ]
     },
     "execution_count": 5,
     "metadata": {},
     "output_type": "execute_result"
    }
   ],
   "source": [
    "ma.CountUnified()"
   ]
  },
  {
   "cell_type": "markdown",
   "metadata": {},
   "source": [
    "### **`Metadata`**"
   ]
  },
  {
   "cell_type": "code",
   "execution_count": 8,
   "metadata": {},
   "outputs": [
    {
     "data": {
      "text/plain": [
       "'Done!'"
      ]
     },
     "execution_count": 8,
     "metadata": {},
     "output_type": "execute_result"
    }
   ],
   "source": [
    "metadata = UnifyFiles('metadata',r'Datasets\\metadata-sitios', 11)\n",
    "\n",
    "metadata.ReadFiles()\n",
    "\n",
    "metadata.Unify()\n",
    "\n",
    "metadata.WriteJson()"
   ]
  },
  {
   "cell_type": "code",
   "execution_count": 10,
   "metadata": {},
   "outputs": [
    {
     "name": "stdout",
     "output_type": "stream",
     "text": [
      "+--------------------+----------+--------------------+\n",
      "|             gmap_id|avg_rating|            category|\n",
      "+--------------------+----------+--------------------+\n",
      "|0x88f16e41928ff68...|       4.9|          [Pharmacy]|\n",
      "|0x8834f5bb828394c...|       3.9|[Gymnastics cente...|\n",
      "|0x8850fa407ebe7c7...|       4.5|[Electrician, Aud...|\n",
      "|0x8834f503bec584f...|       4.3|[Florist, Gift ba...|\n",
      "|0x88508c6d4a58520...|       4.6|        [Auditorium]|\n",
      "|0x8834f1669a8a4f8...|       5.0|[Dance company, C...|\n",
      "|0x89003f45d6bb196...|       4.4|[Home builder, Re...|\n",
      "|0x88345fbbfbe695a...|       3.0|[Industrial equip...|\n",
      "|0x89003126fbe8bc9...|       4.8|[Civil engineerin...|\n",
      "|0x88d9c4182c6fb0d...|       4.9|[Auto insurance a...|\n",
      "|0x89003f5a27eb3ec...|       4.2|[Real estate agency]|\n",
      "|0x880e32b4dd53737...|       4.9|[HVAC contractor,...|\n",
      "|0x88d9b7a4d735609...|       4.0|  [Auto repair shop]|\n",
      "|0x88d9c4182f60f42...|       5.0|[High school, Pri...|\n",
      "|0x88c2bd9f29a0e93...|       4.2|[Home builder, Re...|\n",
      "|0x865c5e113620217...|       4.0|    [Driving school]|\n",
      "|0x88c2c32cda44011...|       5.0|[Real estate cons...|\n",
      "|0x87c20fbaee7f8bf...|       4.5|    [Public library]|\n",
      "|0x87c20fba23532e6...|       4.5|    [Baptist church]|\n",
      "|0x87c20fa534e5a9a...|       4.8|          [Pharmacy]|\n",
      "+--------------------+----------+--------------------+\n",
      "only showing top 20 rows\n",
      "\n"
     ]
    },
    {
     "data": {
      "text/plain": [
       "'Done!'"
      ]
     },
     "execution_count": 10,
     "metadata": {},
     "output_type": "execute_result"
    }
   ],
   "source": [
    "metadata.PrintFileN(4)"
   ]
  }
 ],
 "metadata": {
  "kernelspec": {
   "display_name": "env",
   "language": "python",
   "name": "python3"
  },
  "language_info": {
   "codemirror_mode": {
    "name": "ipython",
    "version": 3
   },
   "file_extension": ".py",
   "mimetype": "text/x-python",
   "name": "python",
   "nbconvert_exporter": "python",
   "pygments_lexer": "ipython3",
   "version": "3.12.3"
  }
 },
 "nbformat": 4,
 "nbformat_minor": 2
}
