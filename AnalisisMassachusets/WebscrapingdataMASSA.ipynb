{
 "cells": [
  {
   "cell_type": "markdown",
   "metadata": {},
   "source": [
    "## Web scrapping data Massachussets"
   ]
  },
  {
   "cell_type": "markdown",
   "metadata": {},
   "source": [
    "## DATA DEMOGRAFIA"
   ]
  },
  {
   "cell_type": "code",
   "execution_count": null,
   "metadata": {},
   "outputs": [],
   "source": [
    "from selenium import webdriver\n",
    "from selenium.webdriver.common.by import By\n",
    "import time\n",
    "import os\n",
    "import shutil\n",
    "import glob\n",
    "\n",
    "# Configurar el controlador web (cambia la ruta a tu controlador si es necesario)\n",
    "ruta_driver = 'ruta/a/tu/chromedriver'\n",
    "driver = webdriver.Chrome(ruta_driver)\n",
    "\n",
    "# Navegar a la página especificada\n",
    "url = 'https://data.census.gov/table/ACSST1Y2022.S0101?g=040XX00US25&moe=false'\n",
    "driver.get(url)\n",
    "\n",
    "# Esperar a que la página se cargue completamente\n",
    "time.sleep(10)  # Ajusta el tiempo de espera según sea necesario\n",
    "\n",
    "# Localizar el botón de Excel usando XPath y hacer clic en él\n",
    "xpath_boton_excel = '//*[@id=\"toolbar-button-excel\"]/div[1]'\n",
    "boton_excel = driver.find_element(By.XPATH, xpath_boton_excel)\n",
    "boton_excel.click()\n",
    "\n",
    "# Esperar a que la descarga se complete\n",
    "time.sleep(10)  # Ajusta el tiempo de espera según sea necesario\n",
    "\n",
    "# Definir el directorio para guardar el archivo descargado\n",
    "directorio_descargas = 'data'\n",
    "if not os.path.exists(directorio_descargas):\n",
    "    os.makedirs(directorio_descargas)\n",
    "\n",
    "# Mover el archivo descargado al directorio especificado\n",
    "# Nota: Esta parte asume que la ubicación de descarga predeterminada es tu carpeta de Descargas\n",
    "# y que el nombre del archivo es conocido o puede ser inferido. Ajusta según sea necesario.\n",
    "\n",
    "# Definir el patrón de nombre de archivo esperado para la descarga\n",
    "patron_descarga = os.path.expanduser('~/Downloads/ACSST1Y2022.S0101*')\n",
    "archivos_descargados = glob.glob(patron_descarga)\n",
    "\n",
    "if archivos_descargados:\n",
    "    archivo_mas_reciente = max(archivos_descargados, key=os.path.getctime)\n",
    "    shutil.move(archivo_mas_reciente, os.path.join(directorio_descargas, os.path.basename(archivo_mas_reciente)))\n",
    "    print(f'Archivo movido a {directorio_descargas}')\n",
    "else:\n",
    "    print('No se encontró la descarga')\n",
    "\n",
    "# Cerrar el controlador web\n",
    "driver.quit()\n"
   ]
  },
  {
   "cell_type": "markdown",
   "metadata": {},
   "source": [
    "## Data income y poverty"
   ]
  },
  {
   "cell_type": "code",
   "execution_count": null,
   "metadata": {},
   "outputs": [],
   "source": [
    "from selenium import webdriver\n",
    "from selenium.webdriver.common.by import By\n",
    "import time\n",
    "import os\n",
    "import shutil\n",
    "import glob\n",
    "\n",
    "# Configurar el controlador web (cambia la ruta a tu controlador si es necesario)\n",
    "ruta_driver = 'ruta/a/tu/chromedriver'\n",
    "driver = webdriver.Chrome(ruta_driver)\n",
    "\n",
    "# Navegar a la página especificada\n",
    "url = 'https://data.census.gov/table/ACSST1Y2022.S1901?g=040XX00US25'\n",
    "driver.get(url)\n",
    "\n",
    "# Esperar a que la página se cargue completamente\n",
    "time.sleep(10)  # Ajusta el tiempo de espera según sea necesario\n",
    "\n",
    "# Localizar el botón de Excel usando XPath y hacer clic en él\n",
    "xpath_boton_excel = '//*[@id=\"toolbar-button-excel\"]/div[1]'\n",
    "boton_excel = driver.find_element(By.XPATH, xpath_boton_excel)\n",
    "boton_excel.click()\n",
    "\n",
    "# Esperar a que la descarga se complete\n",
    "time.sleep(10)  # Ajusta el tiempo de espera según sea necesario\n",
    "\n",
    "# Definir el directorio para guardar el archivo descargado\n",
    "directorio_descargas = 'data'\n",
    "if not os.path.exists(directorio_descargas):\n",
    "    os.makedirs(directorio_descargas)\n",
    "\n",
    "# Mover el archivo descargado al directorio especificado\n",
    "# Nota: Esta parte asume que la ubicación de descarga predeterminada es tu carpeta de Descargas\n",
    "# y que el nombre del archivo es conocido o puede ser inferido. Ajusta según sea necesario.\n",
    "\n",
    "# Definir el patrón de nombre de archivo esperado para la descarga\n",
    "patron_descarga = os.path.expanduser('~/Downloads/ACSST1Y2022.S0101*')\n",
    "archivos_descargados = glob.glob(patron_descarga)\n",
    "\n",
    "if archivos_descargados:\n",
    "    archivo_mas_reciente = max(archivos_descargados, key=os.path.getctime)\n",
    "    shutil.move(archivo_mas_reciente, os.path.join(directorio_descargas, os.path.basename(archivo_mas_reciente)))\n",
    "    print(f'Archivo movido a {directorio_descargas}')\n",
    "else:\n",
    "    print('No se encontró la descarga')\n",
    "\n",
    "# Cerrar el controlador web\n",
    "driver.quit()\n"
   ]
  }
 ],
 "metadata": {
  "kernelspec": {
   "display_name": "Python 3",
   "language": "python",
   "name": "python3"
  },
  "language_info": {
   "codemirror_mode": {
    "name": "ipython",
    "version": 3
   },
   "file_extension": ".py",
   "mimetype": "text/x-python",
   "name": "python",
   "nbconvert_exporter": "python",
   "pygments_lexer": "ipython3",
   "version": "2022.5.undefined"
  }
 },
 "nbformat": 4,
 "nbformat_minor": 2
}
